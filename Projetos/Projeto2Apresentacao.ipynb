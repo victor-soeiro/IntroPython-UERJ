{
  "nbformat": 4,
  "nbformat_minor": 0,
  "metadata": {
    "colab": {
      "name": "Projeto2Apresentacao.ipynb",
      "provenance": [],
      "authorship_tag": "ABX9TyOS6T9Txv5v/SMlsHOIhqfe",
      "include_colab_link": true
    },
    "kernelspec": {
      "name": "python3",
      "display_name": "Python 3"
    }
  },
  "cells": [
    {
      "cell_type": "markdown",
      "metadata": {
        "id": "view-in-github",
        "colab_type": "text"
      },
      "source": [
        "<a href=\"https://colab.research.google.com/github/victor-soeiro/IntroPython-UERJ/blob/master/Projetos/Projeto2Apresentacao.ipynb\" target=\"_parent\"><img src=\"https://colab.research.google.com/assets/colab-badge.svg\" alt=\"Open In Colab\"/></a>"
      ]
    },
    {
      "cell_type": "markdown",
      "metadata": {
        "id": "KTRlWRIl58BD"
      },
      "source": [
        "# Projeto 2\r\n",
        "\r\n",
        "##**Montagem de uma Rede Neural usando a arquitetura Perceptron**"
      ]
    },
    {
      "cell_type": "markdown",
      "metadata": {
        "id": "hS69f3VserwN"
      },
      "source": [
        "**Autores** Gabriela Gonçalves, Úrsula Goulart e Victor Soeiro.\r\n",
        "\r\n",
        "[Arquivo do Projeto](https://github.com/malbouis/Python_intro/blob/master/aulas/projetos/projeto2_perceptrons.ipynb)\r\n",
        "\r\n",
        "---"
      ]
    },
    {
      "cell_type": "markdown",
      "metadata": {
        "id": "bx4t5hgw5vEq"
      },
      "source": [
        "## Perceptron"
      ]
    },
    {
      "cell_type": "markdown",
      "metadata": {
        "id": "yW-jLMHUSby7"
      },
      "source": [
        "Um Perceptron é uma arquitetura de Redes Neurais que utiliza apenas uma camada de processamento, ou melhor, apenas um neurônio. Esse neurônio utiliza uma função de ativação para o processamos do somatório dos inputs com seus pesos e retorna um output binário."
      ]
    },
    {
      "cell_type": "markdown",
      "metadata": {
        "id": "Vuf-W8GKzU9F"
      },
      "source": [
        "<img src=\"https://images.deepai.org/glossary-terms/perceptron-6168423.jpg\" width=500 />"
      ]
    },
    {
      "cell_type": "markdown",
      "metadata": {
        "id": "xcoB1IsezVnY"
      },
      "source": [
        "Para o projeto, vamos utilizar a função de ativação *Heaviside StepFunction*. Em linguagem Python, poderiamos escrevê-la como,\r\n",
        "\r\n",
        "```\r\n",
        "def heaviside(summation, b):\r\n",
        "    return 1 if summation > b else 0\r\n",
        "```\r\n",
        "\r\n",
        "Onde, b nomeamos como bias. \r\n",
        "\r\n",
        "Essa desigualdade pode ser escrita em relação do somatório dos inputs com os pesos mais o bias, sendo agora maior ou menor que zero. \r\n",
        "\r\n",
        "Portanto,\r\n",
        "\r\n",
        "$ \\phi(x) = \r\n",
        "\\begin{cases}\r\n",
        "   1 & \\text{se $\\sum_{i=1}^{N} x_i \\omega_i + b > 0$} \\\\\r\n",
        "   0 & \\text{se $\\sum_{i=1}^{N} x_i \\omega_i + b \\leq 0$}\r\n",
        "\\end{cases}$\r\n",
        "\r\n",
        "Para incorporar o bias no somatório, o chamaremos de peso zero, $\\omega_0$, com um input, $x_0$, igual a 1. \r\n",
        "\r\n",
        "**Obs.:** O produto dos pesos com os inputs é um produto matricial devido serem arrays."
      ]
    },
    {
      "cell_type": "markdown",
      "metadata": {
        "id": "Y0ie7sNbny6S"
      },
      "source": [
        "Para cada conjunto de inputs do Perceptron, que chamaremos de features, compararemos o output, chamado de y, com o valor do dataset, chamado de label. A partir dessas comparaçãos, ajustaremos os pesos até que tenha a menor diferença para uma melhor classificação do Perceptron. \r\n",
        "\r\n",
        "```\r\n",
        "w = w + learning_rate * (label - y) * x\r\n",
        "```\r\n",
        "\r\n",
        "Onde, o *learning_rate* é a taxa de aprendizado do Perceptron.\r\n",
        "\r\n"
      ]
    },
    {
      "cell_type": "markdown",
      "metadata": {
        "id": "K4RQY8Q_5iAV"
      },
      "source": [
        "## Iris Dataset"
      ]
    },
    {
      "cell_type": "markdown",
      "metadata": {
        "id": "14pweRq4QEra"
      },
      "source": [
        "Antes de criarmos o nosso Perceptron, pré-processaremos o dataset da flor iris usando o módulo Pandas e o Matplotlib. Ambos os módulos tem como propósito análise e visualização de dados. Em conjunto com o módulo Numpy formam uma ferramenta poderosa para o processamento de dados.\r\n",
        "\r\n",
        "Portanto, vamos importar esses módulos."
      ]
    },
    {
      "cell_type": "code",
      "metadata": {
        "id": "t7FYurzp5dd4"
      },
      "source": [
        "import numpy as np\r\n",
        "import pandas as pd\r\n",
        "import matplotlib.pyplot as plt"
      ],
      "execution_count": 1,
      "outputs": []
    },
    {
      "cell_type": "markdown",
      "metadata": {
        "id": "f1Te2t_fPzTA"
      },
      "source": [
        "Para obtermos o dataset da flor iris, usaremos a função *read_csv()*, sendo o argumento um URL, para baixar o dataset no formato .csv."
      ]
    },
    {
      "cell_type": "code",
      "metadata": {
        "id": "h8NyhttJPzEY"
      },
      "source": [
        "iris_dataset = pd.read_csv(\"https://archive.ics.uci.edu/ml/machine-learning-databases/iris/iris.data\", header=None)"
      ],
      "execution_count": 2,
      "outputs": []
    },
    {
      "cell_type": "markdown",
      "metadata": {
        "id": "Xi3JgzOIRrSM"
      },
      "source": [
        "Para verificar se foi lido o dataset corretamente, verificaremos os primeiros cinco dados da tabela usando a função *head()*."
      ]
    },
    {
      "cell_type": "code",
      "metadata": {
        "colab": {
          "base_uri": "https://localhost:8080/",
          "height": 204
        },
        "id": "tcIKxWWLSAUo",
        "outputId": "2e6e736e-cf14-4f8e-db12-a9a2395837d2"
      },
      "source": [
        "iris_dataset.head()"
      ],
      "execution_count": 3,
      "outputs": [
        {
          "output_type": "execute_result",
          "data": {
            "text/html": [
              "<div>\n",
              "<style scoped>\n",
              "    .dataframe tbody tr th:only-of-type {\n",
              "        vertical-align: middle;\n",
              "    }\n",
              "\n",
              "    .dataframe tbody tr th {\n",
              "        vertical-align: top;\n",
              "    }\n",
              "\n",
              "    .dataframe thead th {\n",
              "        text-align: right;\n",
              "    }\n",
              "</style>\n",
              "<table border=\"1\" class=\"dataframe\">\n",
              "  <thead>\n",
              "    <tr style=\"text-align: right;\">\n",
              "      <th></th>\n",
              "      <th>0</th>\n",
              "      <th>1</th>\n",
              "      <th>2</th>\n",
              "      <th>3</th>\n",
              "      <th>4</th>\n",
              "    </tr>\n",
              "  </thead>\n",
              "  <tbody>\n",
              "    <tr>\n",
              "      <th>0</th>\n",
              "      <td>5.1</td>\n",
              "      <td>3.5</td>\n",
              "      <td>1.4</td>\n",
              "      <td>0.2</td>\n",
              "      <td>Iris-setosa</td>\n",
              "    </tr>\n",
              "    <tr>\n",
              "      <th>1</th>\n",
              "      <td>4.9</td>\n",
              "      <td>3.0</td>\n",
              "      <td>1.4</td>\n",
              "      <td>0.2</td>\n",
              "      <td>Iris-setosa</td>\n",
              "    </tr>\n",
              "    <tr>\n",
              "      <th>2</th>\n",
              "      <td>4.7</td>\n",
              "      <td>3.2</td>\n",
              "      <td>1.3</td>\n",
              "      <td>0.2</td>\n",
              "      <td>Iris-setosa</td>\n",
              "    </tr>\n",
              "    <tr>\n",
              "      <th>3</th>\n",
              "      <td>4.6</td>\n",
              "      <td>3.1</td>\n",
              "      <td>1.5</td>\n",
              "      <td>0.2</td>\n",
              "      <td>Iris-setosa</td>\n",
              "    </tr>\n",
              "    <tr>\n",
              "      <th>4</th>\n",
              "      <td>5.0</td>\n",
              "      <td>3.6</td>\n",
              "      <td>1.4</td>\n",
              "      <td>0.2</td>\n",
              "      <td>Iris-setosa</td>\n",
              "    </tr>\n",
              "  </tbody>\n",
              "</table>\n",
              "</div>"
            ],
            "text/plain": [
              "     0    1    2    3            4\n",
              "0  5.1  3.5  1.4  0.2  Iris-setosa\n",
              "1  4.9  3.0  1.4  0.2  Iris-setosa\n",
              "2  4.7  3.2  1.3  0.2  Iris-setosa\n",
              "3  4.6  3.1  1.5  0.2  Iris-setosa\n",
              "4  5.0  3.6  1.4  0.2  Iris-setosa"
            ]
          },
          "metadata": {
            "tags": []
          },
          "execution_count": 3
        }
      ]
    },
    {
      "cell_type": "markdown",
      "metadata": {
        "id": "TjQ4YoJH-RCP"
      },
      "source": [
        "Para o projeto consideraremos apenas o comprimento e largura da pétala da Iris, que no caso seriam as colunas 2 e 3. Além disso, iremos utilizar no total 150 dados, onde, em sequência, 50 dados serão da flor Iris Setosa, 50 dados da flor Iris Versicolor e 50 dados da flor Iris Virginica. \r\n",
        "\r\n",
        "O nosso Perceptron será treinado para prever se é ou não é uma flor Iris Setosa, logo, converteremos a classificação da flor em dois inteiros, 1 para Iris Setosa e 0 para os outros tipos."
      ]
    },
    {
      "cell_type": "code",
      "metadata": {
        "id": "T7lCqV7rUcD5"
      },
      "source": [
        "x = iris_dataset.iloc[0:150, [2, 3]].values"
      ],
      "execution_count": 4,
      "outputs": []
    },
    {
      "cell_type": "code",
      "metadata": {
        "id": "gU_M0J3GUwYJ"
      },
      "source": [
        "y = np.where(iris_dataset.iloc[0:150, 4].values == \"Iris-setosa\", 1, 0)"
      ],
      "execution_count": 5,
      "outputs": []
    },
    {
      "cell_type": "markdown",
      "metadata": {
        "id": "JRRyuwomXVlN"
      },
      "source": [
        "Visualizaremos os dados utilizando um gráfico de dispersão."
      ]
    },
    {
      "cell_type": "code",
      "metadata": {
        "colab": {
          "base_uri": "https://localhost:8080/",
          "height": 279
        },
        "id": "DBzNFIdkYQbJ",
        "outputId": "efe03048-5c94-47dc-92fe-e5ad1cb52f40"
      },
      "source": [
        "plt.scatter(x[:50, 0], x[:50, 1], color=\"blue\", label=\"setosa\")\r\n",
        "plt.scatter(x[50:100, 0], x[50:100, 1], color=\"red\", label=\"versicolor\")\r\n",
        "plt.scatter(x[100:, 0], x[100:, 1], color=\"green\", label=\"virginica\")\r\n",
        "plt.xlabel(\"Petal Length\")\r\n",
        "plt.ylabel(\"Petal Width\")\r\n",
        "plt.legend(loc=\"upper left\")\r\n",
        "plt.show()"
      ],
      "execution_count": 6,
      "outputs": [
        {
          "output_type": "display_data",
          "data": {
            "image/png": "[encoded data removed]",
            "text/plain": [
              "<Figure size 432x288 with 1 Axes>"
            ]
          },
          "metadata": {
            "tags": [],
            "needs_background": "light"
          }
        }
      ]
    },
    {
      "cell_type": "markdown",
      "metadata": {
        "id": "dqXJNafCdnEP"
      },
      "source": [
        "Agora criaremos o nosso Perceptron."
      ]
    },
    {
      "cell_type": "markdown",
      "metadata": {
        "id": "LjDtqmsV6BzL"
      },
      "source": [
        "## Perceptron Model"
      ]
    },
    {
      "cell_type": "markdown",
      "metadata": {
        "id": "nNzmy096-N1H"
      },
      "source": [
        "A classe Perceptron terá duas funções essenciais, *predict* e *train*. Esses dois métodos são a implementação da função de ativação e do treinamento do Perceptron. Portanto,"
      ]
    },
    {
      "cell_type": "code",
      "metadata": {
        "id": "9FlJ_Iz65grA"
      },
      "source": [
        "class Perceptron:\r\n",
        "    def __init__(self, n_of_inputs, threshold=100, learning_rate=.01):\r\n",
        "        \"\"\"\r\n",
        "        Método de inicialização da classe Perceptron.\r\n",
        "\r\n",
        "        :param n_of_inputs: Número de features do Perceptron.\r\n",
        "        :param threshold: Número de iterações do método de treino do Perceptron.\r\n",
        "        :param learning_rate: Taxa de aprendizado do Perceptron.\r\n",
        "        \"\"\"\r\n",
        "\r\n",
        "        self.bias = 0\r\n",
        "        self.weights = np.zeros(n_of_inputs)\r\n",
        "        self.threshold = threshold\r\n",
        "        self.learning_rate = learning_rate\r\n",
        "    \r\n",
        "    def predict(self, inputs):\r\n",
        "        \"\"\"\r\n",
        "        Método de implementação da função ativação, usando a função\r\n",
        "        Heaviside StepFunction, do Perceptron.\r\n",
        "\r\n",
        "        :param inputs: Array com o conjunto de features.\r\n",
        "        \"\"\"\r\n",
        "        return np.heaviside(np.dot(inputs, self.weights) + self.bias, 0)\r\n",
        "    \r\n",
        "    def train(self, training_inputs, labels):\r\n",
        "        \"\"\"\r\n",
        "        Método de treino do Perceptron.\r\n",
        "\r\n",
        "        :param training_inputs: Array com o conjunto de dados para o treinamento.\r\n",
        "        :param labels: Array com o conjunto de dados esperado.\r\n",
        "        \"\"\"\r\n",
        "        for _ in range(self.threshold):\r\n",
        "            for n in range(len(training_inputs)):\r\n",
        "                prediction = self.predict(training_inputs[n])\r\n",
        "                self.weights += self.learning_rate * (labels[n] - prediction) * training_inputs[n]\r\n",
        "                self.bias += self.learning_rate * (labels[n] - prediction)"
      ],
      "execution_count": 11,
      "outputs": []
    },
    {
      "cell_type": "markdown",
      "metadata": {
        "id": "ObymNmiTfNdv"
      },
      "source": [
        "Treinaremos o nosso Perceptron a partir dos dados processados na seção anterior e iremos prever se dado o input com o comprimento e largura da petála gera um output esperado. \r\n",
        "\r\n",
        "Para uma Iris Setosa, temos os seguintes valores, respectivamente, para o comprimento e largura da petála, 1 e 0,5. Por isso, o Perceptron deve retornar True, ou 1, caso seja uma Iris Setosa."
      ]
    },
    {
      "cell_type": "code",
      "metadata": {
        "colab": {
          "base_uri": "https://localhost:8080/"
        },
        "id": "uBkRPvZgfgy1",
        "outputId": "12c893bd-0d0e-4d8b-98a2-300e4b3fa5a2"
      },
      "source": [
        "iris_perceptron = Perceptron(2)\r\n",
        "iris_perceptron.train(x, y)\r\n",
        "iris_perceptron.predict([1, 0.5])"
      ],
      "execution_count": 12,
      "outputs": [
        {
          "output_type": "execute_result",
          "data": {
            "text/plain": [
              "1.0"
            ]
          },
          "metadata": {
            "tags": []
          },
          "execution_count": 12
        }
      ]
    },
    {
      "cell_type": "markdown",
      "metadata": {
        "id": "3ZtCrqh3gMok"
      },
      "source": [
        "Como esperado, o valor retornado foi 1!! Agora devemos compará-lo com algum outro Perceptron para verificá-lo.\r\n",
        "\r\n",
        "Há um módulo muito utilizado na ciência dos dados chamado de sklearn, que já possui implementado uma classe do Perceptron. O utilizaremos para comparar os resultados obtidos. "
      ]
    },
    {
      "cell_type": "code",
      "metadata": {
        "colab": {
          "base_uri": "https://localhost:8080/"
        },
        "id": "4J5J_c6Mhcrg",
        "outputId": "48126eea-1cd9-471b-e3cb-b921cd3d77d6"
      },
      "source": [
        "from sklearn.linear_model import Perceptron as sklearnPerceptron\r\n",
        "\r\n",
        "iris_sklearn_perceptron = sklearnPerceptron()\r\n",
        "iris_sklearn_perceptron.fit(x, y)\r\n",
        "iris_sklearn_perceptron.predict([[1, 0.5]])"
      ],
      "execution_count": 14,
      "outputs": [
        {
          "output_type": "execute_result",
          "data": {
            "text/plain": [
              "array([1])"
            ]
          },
          "metadata": {
            "tags": []
          },
          "execution_count": 14
        }
      ]
    },
    {
      "cell_type": "markdown",
      "metadata": {
        "id": "gYBFlPQih5hK"
      },
      "source": [
        "Novamente, como esperado, o valor do Perceptron do módulo sklearn resultou em 1, também."
      ]
    },
    {
      "cell_type": "markdown",
      "metadata": {
        "id": "JDJLhm4HXrtc"
      },
      "source": [
        "O Perceptron torna-se uma arquitetura de redes neurais interessante ao trabalhar com classificações binárias e linearmente separáveis, como a o ajuste linear de uma reta.\r\n",
        "\r\n",
        "O algoritmo do Perceptron começa a falhar quando o dataset para o seu aprendizado não é linearmente separável, tal que, não conseguirá classificar o dataset corretamente. Outra limitação é a classificação binária, na qual nem todos casos torna-se aplicável."
      ]
    }
  ]
}